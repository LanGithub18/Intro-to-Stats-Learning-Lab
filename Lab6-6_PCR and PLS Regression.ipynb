{
 "cells": [
  {
   "cell_type": "markdown",
   "metadata": {},
   "source": [
    "# 6.6 Lab3: PCR and PLS Regression"
   ]
  },
  {
   "cell_type": "markdown",
   "metadata": {},
   "source": [
    "Implement Labs using **Python** in the book \"An Introduction to Statistical Learning with Applications in R\".\n",
    "https://link.springer.com/book/10.1007/978-1-4614-7138-7\n",
    "**Authors**\n",
    "Gareth James, Daniela WittenTrevor Hastie, Robert Tibshirani"
   ]
  },
  {
   "cell_type": "code",
   "execution_count": 14,
   "metadata": {},
   "outputs": [],
   "source": [
    "import pandas as pd\n",
    "import numpy as np\n",
    "import matplotlib.pyplot as plt\n",
    "\n",
    "from sklearn.preprocessing import StandardScaler\n",
    "from sklearn import model_selection\n",
    "from sklearn.decomposition import PCA\n",
    "from sklearn.linear_model import LinearRegression\n",
    "from sklearn.cross_decomposition import PLSRegression\n",
    "from sklearn.metrics import mean_squared_error\n",
    "from sklearn.metrics import explained_variance_score"
   ]
  },
  {
   "cell_type": "markdown",
   "metadata": {},
   "source": [
    "# Pre-Processing data like 6.6 Lab2: Ridge and Lasso Regression"
   ]
  },
  {
   "cell_type": "code",
   "execution_count": 24,
   "metadata": {},
   "outputs": [],
   "source": [
    "Hitters = pd.read_csv('Hitters.csv', index_col = 0).dropna()\n",
    "Hitters = pd.get_dummies(Hitters, columns = ['League', 'Division','NewLeague'], drop_first = True)\n",
    "\n",
    "scaler = StandardScaler(with_mean = False)\n",
    "Hitters = pd.DataFrame(scaler.fit_transform(Hitters), columns = Hitters.columns)\n",
    "\n",
    "y = Hitters.Salary\n",
    "X = Hitters.drop('Salary', axis = 1)"
   ]
  },
  {
   "cell_type": "markdown",
   "metadata": {},
   "source": [
    "# Principle Component Regression (PCR)\n",
    "## Cross validation for PCR on full data set"
   ]
  },
  {
   "cell_type": "markdown",
   "metadata": {},
   "source": [
    "Create principle components, default number of components is 8"
   ]
  },
  {
   "cell_type": "code",
   "execution_count": 33,
   "metadata": {},
   "outputs": [],
   "source": [
    "pca = PCA()"
   ]
  },
  {
   "cell_type": "code",
   "execution_count": 29,
   "metadata": {},
   "outputs": [
    {
     "name": "stdout",
     "output_type": "stream",
     "text": [
      "cumulative information captured by compoments:\n",
      " [ 38.31423957  60.15531541  70.8416746   79.03419435  84.29027516\n",
      "  88.63477938  92.26288766  94.96304322  96.28269124  97.25541298\n",
      "  97.97775424  98.64870031  99.15178693  99.4730334   99.74659124\n",
      "  99.89398793  99.96815949  99.99375108 100.        ]\n"
     ]
    }
   ],
   "source": [
    "X_reduced = pca.fit_transform(X)\n",
    "pca_components  = pca.components_.T\n",
    "info_captured = np.cumsum(pca.explained_variance_ratio_*100)\n",
    "print('cumulative information captured by compoments:\\n', info_captured)\n"
   ]
  },
  {
   "cell_type": "markdown",
   "metadata": {},
   "source": [
    "Perform CV for PCR on the full data set"
   ]
  },
  {
   "cell_type": "code",
   "execution_count": 30,
   "metadata": {},
   "outputs": [],
   "source": [
    "M = len(X.columns)\n",
    "reg = LinearRegression()\n",
    "PCR_cv_full_mse = []"
   ]
  },
  {
   "cell_type": "markdown",
   "metadata": {},
   "source": [
    "Perform Null model"
   ]
  },
  {
   "cell_type": "code",
   "execution_count": 31,
   "metadata": {},
   "outputs": [],
   "source": [
    "score_null = -model_selection.cross_val_score(reg, np.ones((len(X_reduced), 1)), y.ravel(), cv = 10, scoring = 'neg_mean_squared_error').mean()\n",
    "PCR_cv_full_mse.append(score_null)"
   ]
  },
  {
   "cell_type": "markdown",
   "metadata": {},
   "source": [
    "Perform PCR with components: 1, 2, .... 19"
   ]
  },
  {
   "cell_type": "code",
   "execution_count": 32,
   "metadata": {},
   "outputs": [
    {
     "name": "stdout",
     "output_type": "stream",
     "text": [
      "Best number of components to include: 18\n",
      "Best estimated test MSE: 0.568\n"
     ]
    },
    {
     "data": {
      "image/png": "[encoded data removed]",
      "text/plain": [
       "<Figure size 432x288 with 1 Axes>"
      ]
     },
     "metadata": {
      "needs_background": "light"
     },
     "output_type": "display_data"
    }
   ],
   "source": [
    "# X_reduced[:, :m] represent the 1st, 2nd, ...(m-1)^th compoenents\n",
    "for m in range(M):\n",
    "    score = -model_selection.cross_val_score(reg, X_reduced[:, :m+1], y.ravel(), cv = 10, scoring = 'neg_mean_squared_error').mean()\n",
    "    PCR_cv_full_mse.append(score)\n",
    "\n",
    "best_cv_score = min(PCR_cv_full_mse)\n",
    "best_M = np.where(PCR_cv_full_mse == best_cv_score)[0][0]\n",
    "\n",
    "\n",
    "\n",
    "print('Best number of components to include:', best_M)\n",
    "print('Best estimated test MSE: {:0.3f}'.format(best_cv_score))\n",
    "\n",
    "#plot the cv error\n",
    "\n",
    "ax = plt.gca()\n",
    "ax.plot(PCR_cv_full_mse, '-v')\n",
    "ax.plot(best_M, best_cv_score, marker = 'v')\n",
    "plt.xlabel('Number of components')\n",
    "plt.ylabel('CV_MSE')\n",
    "plt.title('PCR CV')\n",
    "plt.axis('tight')\n",
    "plt.show()\n"
   ]
  },
  {
   "cell_type": "markdown",
   "metadata": {},
   "source": [
    "## Cross validation for PCR on training data and evaluate on test data"
   ]
  },
  {
   "cell_type": "markdown",
   "metadata": {},
   "source": [
    "### Cross validation for PCR on training data"
   ]
  },
  {
   "cell_type": "code",
   "execution_count": 38,
   "metadata": {},
   "outputs": [
    {
     "name": "stdout",
     "output_type": "stream",
     "text": [
      "Best number of components to include: 7\n",
      "Best estimated test MSE: 0.639\n"
     ]
    }
   ],
   "source": [
    "X_train, X_test, y_train, y_test = model_selection.train_test_split(X,y, test_size = 0.5, random_state = 1)\n",
    "\n",
    "X_reduced_train = pca.fit_transform(X_train)\n",
    "\n",
    "CV_train_MSE = []\n",
    "\n",
    "score1_null = -model_selection.cross_val_score(reg, np.ones((len(X_reduced_train), 1)), y_train.ravel(), cv = 10, scoring = 'neg_mean_squared_error').mean()\n",
    "CV_train_MSE.append(score1_null)\n",
    "\n",
    "for m in range(M):\n",
    "    score = -model_selection.cross_val_score(reg, X_reduced_train[:, :m+1], y_train.ravel(), cv = 10, scoring = 'neg_mean_squared_error').mean()\n",
    "    CV_train_MSE.append(score)\n",
    "\n",
    "best_cv_train_score = min(CV_train_MSE)\n",
    "best_M_train = np.where(CV_train_MSE ==best_cv_train_score)[0][0]\n",
    "\n",
    "\n",
    "print('Best number of components to include:', best_M_train+1)\n",
    "print('Best estimated test MSE: {:0.3f}'.format(best_cv_train_score))"
   ]
  },
  {
   "cell_type": "markdown",
   "metadata": {},
   "source": [
    "Note that CV_train_MSE is the estimated test MSE for 0, 1, 2, ...., 19 components."
   ]
  },
  {
   "cell_type": "markdown",
   "metadata": {},
   "source": [
    "### Evaluate on test data"
   ]
  },
  {
   "cell_type": "code",
   "execution_count": 46,
   "metadata": {},
   "outputs": [
    {
     "name": "stdout",
     "output_type": "stream",
     "text": [
      "MSE for PCR with 7 compenents on test data:0.650\n"
     ]
    }
   ],
   "source": [
    "X_test_reduced = pca.fit_transform(X_test)[:,:best_M_train]\n",
    "\n",
    "reg1 = LinearRegression()\n",
    "reg1.fit(X_reduced_train[:, :best_M_train], y_train)\n",
    "Test_MSE = mean_squared_error(y_test, reg1.predict(X_test_reduced))\n",
    "\n",
    "print('MSE for PCR with {} compenents on test data:{:0.3f}'.format(best_M_train+1, Test_MSE))"
   ]
  },
  {
   "cell_type": "markdown",
   "metadata": {},
   "source": [
    "### Fit PCR on the full data set"
   ]
  },
  {
   "cell_type": "code",
   "execution_count": 42,
   "metadata": {},
   "outputs": [
    {
     "name": "stdout",
     "output_type": "stream",
     "text": [
      "Standardized coefficient on full data set:  [ 0.23623804 -0.04798004  0.05395603 -0.08214329 -0.12973393  0.13815639\n",
      "  0.05472085  0.0351534   0.06568825  0.22131205 -0.06687708  0.04662347\n",
      "  0.16080058 -0.61450135 -0.16472916  0.93884776 -0.77079121 -1.24727188\n",
      " -0.18490289]\n"
     ]
    }
   ],
   "source": [
    "X_reduced[:,:best_M_train]\n",
    "reg1.fit(X_reduced, y)\n",
    "print('Standardized coefficient on full data set: ', reg1.coef_)\n"
   ]
  },
  {
   "cell_type": "markdown",
   "metadata": {},
   "source": [
    "# Partial Least Square"
   ]
  },
  {
   "cell_type": "code",
   "execution_count": 48,
   "metadata": {},
   "outputs": [
    {
     "name": "stdout",
     "output_type": "stream",
     "text": [
      "Best number of components to include:  2\n",
      "MSE on test data: 0.506\n"
     ]
    },
    {
     "data": {
      "image/png": "[encoded data removed]",
      "text/plain": [
       "<Figure size 432x288 with 1 Axes>"
      ]
     },
     "metadata": {
      "needs_background": "light"
     },
     "output_type": "display_data"
    }
   ],
   "source": [
    "pls_mse = []\n",
    "for m in range(1,M+1):\n",
    "    pls = PLSRegression(n_components = m)\n",
    "    score = -model_selection.cross_val_score(pls, X_train, y_train, cv = 10, scoring = 'neg_mean_squared_error').mean()\n",
    "    pls_mse.append(score)\n",
    "pls_best_M = np.where(pls_mse == min(pls_mse))[0][0]\n",
    "\n",
    "ax = plt.gca()\n",
    "ax.plot(pls_mse, '-v')\n",
    "ax.plot(pls_best_M, pls_mse[pls_best_M], marker = 'v')\n",
    "plt.xlabel('number of components')\n",
    "plt.ylabel('CV PLS MSE')\n",
    "\n",
    "pls = PLSRegression(n_components= pls_best_M+1)\n",
    "pls.fit(X_train, y_train)\n",
    "pls_test_mse = mean_squared_error(y_test, pls.predict(X_test))\n",
    "\n",
    "pls_full =  PLSRegression(n_components= pls_best_M+1)\n",
    "pls_full.fit(X,y)\n",
    "\n",
    "explained_variance = explained_variance_score(y, pls_full.predict(X))\n",
    "\n",
    "print('Best number of components to include: ', pls_best_M+1)\n",
    "print('MSE on test data: {:0.3f}'.format(pls_test_mse))\n",
    "#print('Standardized coefficient:', pls_full.coef_)"
   ]
  }
 ],
 "metadata": {
  "kernelspec": {
   "display_name": "Python 3",
   "language": "python",
   "name": "python3"
  },
  "language_info": {
   "codemirror_mode": {
    "name": "ipython",
    "version": 3
   },
   "file_extension": ".py",
   "mimetype": "text/x-python",
   "name": "python",
   "nbconvert_exporter": "python",
   "pygments_lexer": "ipython3",
   "version": "3.7.6"
  }
 },
 "nbformat": 4,
 "nbformat_minor": 4
}
